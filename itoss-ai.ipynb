{
 "cells": [
  {
   "metadata": {
    "ExecuteTime": {
     "end_time": "2024-07-22T15:33:14.956630Z",
     "start_time": "2024-07-22T15:33:13.623251Z"
    }
   },
   "cell_type": "code",
   "source": [
    "import logging\n",
    "!pip install pyspark\n",
    "from pyspark.sql import SparkSession\n",
    "from pyspark.streaming import StreamingContext\n",
    "from pyspark.sql.types import *"
   ],
   "id": "acf9a3404fb150f6",
   "outputs": [
    {
     "name": "stdout",
     "output_type": "stream",
     "text": [
      "Defaulting to user installation because normal site-packages is not writeable\r\n",
      "Requirement already satisfied: pyspark in /home/fmalaspina/.local/lib/python3.10/site-packages (3.5.1)\r\n",
      "Requirement already satisfied: py4j==0.10.9.7 in /home/fmalaspina/.local/lib/python3.10/site-packages (from pyspark) (0.10.9.7)\r\n",
      "\r\n",
      "\u001B[1m[\u001B[0m\u001B[34;49mnotice\u001B[0m\u001B[1;39;49m]\u001B[0m\u001B[39;49m A new release of pip is available: \u001B[0m\u001B[31;49m24.1.1\u001B[0m\u001B[39;49m -> \u001B[0m\u001B[32;49m24.1.2\u001B[0m\r\n",
      "\u001B[1m[\u001B[0m\u001B[34;49mnotice\u001B[0m\u001B[1;39;49m]\u001B[0m\u001B[39;49m To update, run: \u001B[0m\u001B[32;49mpython3 -m pip install --upgrade pip\u001B[0m\r\n"
     ]
    }
   ],
   "execution_count": 1
  },
  {
   "metadata": {
    "ExecuteTime": {
     "end_time": "2024-07-22T15:33:20.151598Z",
     "start_time": "2024-07-22T15:33:16.245266Z"
    }
   },
   "cell_type": "code",
   "source": [
    "spark = (SparkSession.builder.appName(\"itoss-ai\")\n",
    "         .config(\"spark.jars\",\"./postgresql-42.7.3.jar\")\n",
    "         .getOrCreate())"
   ],
   "id": "2a13f0308a39ae8",
   "outputs": [
    {
     "name": "stderr",
     "output_type": "stream",
     "text": [
      "24/07/22 12:33:18 WARN Utils: Your hostname, fmalaspina-M4 resolves to a loopback address: 127.0.1.1; using 192.168.101.200 instead (on interface enp1s0)\n",
      "24/07/22 12:33:18 WARN Utils: Set SPARK_LOCAL_IP if you need to bind to another address\n",
      "24/07/22 12:33:18 WARN NativeCodeLoader: Unable to load native-hadoop library for your platform... using builtin-java classes where applicable\n",
      "Setting default log level to \"WARN\".\n",
      "To adjust logging level use sc.setLogLevel(newLevel). For SparkR, use setLogLevel(newLevel).\n"
     ]
    }
   ],
   "execution_count": 2
  },
  {
   "metadata": {
    "ExecuteTime": {
     "end_time": "2024-07-22T15:33:24.241892Z",
     "start_time": "2024-07-22T15:33:22.778226Z"
    }
   },
   "cell_type": "code",
   "source": [
    "jdbcUrl = \"jdbc:postgresql://localhost:5432/itossconfig\"\n",
    "connection_properties = {\n",
    "    \"driver\": \"org.postgresql.Driver\",\n",
    "    \"user\": \"itoss\",\n",
    "    \"password\": \"admin\"\n",
    "}\n",
    "query = \"(select c.*, w.name as ctWorkgroup, l.name as ctLocation from ct c \\\n",
    "         inner join workgroup w on c.workgroup_id = w.id \\\n",
    "         inner join location l on c.location_id = l.id \\\n",
    "         inner join ct_type ct on c.type_id = ct.id \\\n",
    ") as subquery\"  \n",
    "ctDf = spark.read.jdbc(url=jdbcUrl,table=query,properties=connection_properties)\n",
    "ctDf.printSchema()\n",
    "\n",
    "\n"
   ],
   "id": "2c0e60204ca1868b",
   "outputs": [
    {
     "name": "stdout",
     "output_type": "stream",
     "text": [
      "root\n",
      " |-- id: long (nullable = true)\n",
      " |-- created_by: string (nullable = true)\n",
      " |-- creation_date: timestamp (nullable = true)\n",
      " |-- last_modified_by: string (nullable = true)\n",
      " |-- last_modified_date: timestamp (nullable = true)\n",
      " |-- attributes: string (nullable = true)\n",
      " |-- key: string (nullable = true)\n",
      " |-- environment: string (nullable = true)\n",
      " |-- name: string (nullable = true)\n",
      " |-- old_password: string (nullable = true)\n",
      " |-- state: string (nullable = true)\n",
      " |-- collector_id: long (nullable = true)\n",
      " |-- company_id: long (nullable = true)\n",
      " |-- contact_id: long (nullable = true)\n",
      " |-- location_id: long (nullable = true)\n",
      " |-- monitoring_profile_id: long (nullable = true)\n",
      " |-- support_user_id: long (nullable = true)\n",
      " |-- type_id: long (nullable = true)\n",
      " |-- workgroup_id: long (nullable = true)\n",
      " |-- instrumentation_parameter_values: string (nullable = true)\n",
      " |-- old_crypted_property_values: string (nullable = true)\n",
      " |-- integration_id: string (nullable = true)\n",
      " |-- ctworkgroup: string (nullable = true)\n",
      " |-- ctlocation: string (nullable = true)\n",
      "\n"
     ]
    }
   ],
   "execution_count": 3
  },
  {
   "metadata": {
    "ExecuteTime": {
     "end_time": "2024-07-22T15:56:14.484750Z",
     "start_time": "2024-07-22T15:56:12.694782Z"
    }
   },
   "cell_type": "code",
   "source": [
    "query = \"(select ct.*, rev.revtstmp from itoss_audit.ct_aud ct inner join itoss_audit.revinfo rev \\\n",
    " on ct.rev = rev.rev) as subquery\"  \n",
    "df = spark.read.jdbc(url=jdbcUrl,table=query,properties=connection_properties)\n",
    "df.show(5, truncate=False)\n",
    "\n"
   ],
   "id": "f565670503f2ffb1",
   "outputs": [
    {
     "name": "stderr",
     "output_type": "stream",
     "text": [
      "[Stage 2:>                                                          (0 + 1) / 1]\r"
     ]
    },
    {
     "name": "stdout",
     "output_type": "stream",
     "text": [
      "+------+-------+-------+---------------+-----------------------+----------------+-----------------------+----------------------------------------------------+-----------------------------------+-----------+---------------------------------------------------------------------------------------------------------------------------------------------------------------------------------------------------------------------------------------------------------------------------------------------------------------------------------+--------------+-----------------------------------+----------------------------------------+------------+----------+------------+----------+----------+-----------+---------------------+---------------+-------+------------+-------------+\n",
      "|id    |rev    |revtype|created_by     |creation_date          |last_modified_by|last_modified_date     |attributes                                          |key                                |environment|instrumentation_parameter_values                                                                                                                                                                                                                                                                                                 |integration_id|name                               |old_crypted_property_values             |old_password|state     |collector_id|company_id|contact_id|location_id|monitoring_profile_id|support_user_id|type_id|workgroup_id|revtstmp     |\n",
      "+------+-------+-------+---------------+-----------------------+----------------+-----------------------+----------------------------------------------------+-----------------------------------+-----------+---------------------------------------------------------------------------------------------------------------------------------------------------------------------------------------------------------------------------------------------------------------------------------------------------------------------------------+--------------+-----------------------------------+----------------------------------------+------------+----------+------------+----------+----------+-----------+---------------------+---------------+-------+------------+-------------+\n",
      "|200455|2138215|1      |bcallejas      |2020-11-17 09:30:15.044|bcallejas       |2021-07-19 12:57:06.959|[{\"name\": \"Notes\", \"value\": \"HPOM primary server \"}]|cta-ger-hpom-01.level3dc.br        |PRODUCTION |[{\"name\": \"hostname\", \"value\": \"cta-ger-hpom-01.level3dc.br\"}, {\"name\": \"user\", \"value\": \"root\"}, {\"name\": \"ip\", \"value\": \"189.125.185.233\"}, {\"name\": \"password\", \"value\": \"Fq6zsQxpvoUGbnsxvJcOnA==\"}, {\"name\": \"timezone\", \"value\": \"UTC-3\"}, {\"name\": \"port\", \"value\": 22}]                                                  |NULL          |cta-ger-hpom-01.level3dc.br        |{\"password\": \"Fq6zsQxpvoUGbnsxvJcOnA==\"}|NULL        |DELIVERY  |200007      |200420    |NULL      |200007     |200009               |200003         |200002 |200018      |1626699427097|\n",
      "|200154|2138227|1      |bcallejas      |2020-08-06 11:44:38.597|bcallejas       |2021-07-19 13:39:56.357|[{\"name\": \"Notes\", \"value\": \"\"}]                    |ats-sv-hpodb1.level3dc.ar/HPOMC1   |PRODUCTION |[{\"name\": \"hostname\", \"value\": \"ats-sv-hpodb1.level3dc.ar\"}, {\"name\": \"instance\", \"value\": \"HPOMC1\"}, {\"name\": \"password\", \"value\": \"RhStDyNy8McGANipAqjAGQ==\"}, {\"name\": \"user\", \"value\": \"usrmonitoreo\"}, {\"name\": \"url\", \"value\": \"jdbc:oracle:thin:@ats-sv-hpodb1.level3dc.ar:1521:HPOMC1\"}, {\"name\": \"port\", \"value\": 1521}]|NULL          |ats-sv-hpodb1.level3dc.ar/HPOMC1   |{\"password\": \"RhStDyNy8McGANipAqjAGQ==\"}|NULL        |OPERATIONS|200009      |200214    |NULL      |200002     |200002               |NULL           |200008 |200019      |1626701996509|\n",
      "|201090|2138228|1      |rodrigo.oyakawa|2021-03-30 12:03:07.82 |bcallejas       |2021-07-19 13:40:22.792|[{\"name\": \"Notes\", \"value\": \"\"}]                    |cta-sh-odbem-01.level3dc.br/RMNREPO|PRODUCTION |[{\"name\": \"hostname\", \"value\": \"cta-sh-odbem-01.level3dc.br\"}, {\"name\": \"instance\", \"value\": \"RMNREPO\"}, {\"name\": \"password\", \"value\": \"U2gz8i0gCIjFbooLGEYnzg==\"}, {\"name\": \"user\", \"value\": \"USRMONITOREO\"}, {\"name\": \"url\", \"value\": \"jdbc:oracle:thin:@189.125.185.55:1521:RMNREPO\"}, {\"name\": \"port\", \"value\": 1521}]       |NULL          |cta-sh-odbem-01.level3dc.br/RMNREPO|{\"password\": \"U2gz8i0gCIjFbooLGEYnzg==\"}|NULL        |OPERATIONS|200007      |200420    |NULL      |200015     |200002               |200016         |200008 |200019      |1626702022877|\n",
      "|201218|2138229|1      |msorrentino    |2021-06-18 17:35:37.404|bcallejas       |2021-07-19 13:40:54.122|[{\"name\": \"Notes\", \"value\": \"\"}]                    |fgc-pd-01.fogacoop.co/FOPROD11     |PRODUCTION |[{\"name\": \"hostname\", \"value\": \"fgc-pd-01.fogacoop.co\"}, {\"name\": \"instance\", \"value\": \"FOPROD11\"}, {\"name\": \"password\", \"value\": \"RhStDyNy8McGANipAqjAGQ==\"}, {\"name\": \"user\", \"value\": \"usrmonitoreo\"}, {\"name\": \"url\", \"value\": \"jdbc:oracle:thin:@fgc-pd-01.fogacoop.co:1521:FOPROD11\"}, {\"name\": \"port\", \"value\": 1521}]    |              |fgc-pd-01.fogacoop.co/FOPROD11     |{\"password\": \"RhStDyNy8McGANipAqjAGQ==\"}|NULL        |OPERATIONS|200004      |200109    |NULL      |200011     |200002               |NULL           |200008 |200004      |1626702054194|\n",
      "|200201|2138234|1      |bcallejas      |2020-08-21 15:19:23.009|bcallejas       |2021-05-05 19:57:18.847|[{\"name\": \"Notes\", \"value\": \"\"}]                    |cta-ger-sis-02.level3dc.br         |PRODUCTION |[{\"name\": \"hostname\", \"value\": \"cta-ger-sis-02.level3dc.br\"}, {\"name\": \"user\", \"value\": \"monlumen\"}, {\"name\": \"ip\", \"value\": \"189.125.185.197\"}, {\"name\": \"password\", \"value\": \"9zx7gW9FCjC4SMCbX7FW0g==\"}, {\"name\": \"timezone\", \"value\": \"UTC-3\"}]                                                                              |NULL          |cta-ger-sis-02.level3dc.br         |{\"password\": \"9zx7gW9FCjC4SMCbX7FW0g==\"}|NULL        |OPERATIONS|200007      |200002    |NULL      |200007     |200008               |NULL           |200003 |200002      |1626703097920|\n",
      "+------+-------+-------+---------------+-----------------------+----------------+-----------------------+----------------------------------------------------+-----------------------------------+-----------+---------------------------------------------------------------------------------------------------------------------------------------------------------------------------------------------------------------------------------------------------------------------------------------------------------------------------------+--------------+-----------------------------------+----------------------------------------+------------+----------+------------+----------+----------+-----------+---------------------+---------------+-------+------------+-------------+\n",
      "only showing top 5 rows\n",
      "\n"
     ]
    },
    {
     "name": "stderr",
     "output_type": "stream",
     "text": [
      "                                                                                \r"
     ]
    }
   ],
   "execution_count": 8
  },
  {
   "metadata": {},
   "cell_type": "code",
   "source": "",
   "id": "55376a0538ffc421",
   "outputs": [],
   "execution_count": null
  },
  {
   "metadata": {},
   "cell_type": "code",
   "source": "",
   "id": "93af423dcfb2c5d6",
   "outputs": [],
   "execution_count": null
  }
 ],
 "metadata": {
  "kernelspec": {
   "display_name": "Python 3",
   "language": "python",
   "name": "python3"
  },
  "language_info": {
   "codemirror_mode": {
    "name": "ipython",
    "version": 2
   },
   "file_extension": ".py",
   "mimetype": "text/x-python",
   "name": "python",
   "nbconvert_exporter": "python",
   "pygments_lexer": "ipython2",
   "version": "2.7.6"
  }
 },
 "nbformat": 4,
 "nbformat_minor": 5
}
