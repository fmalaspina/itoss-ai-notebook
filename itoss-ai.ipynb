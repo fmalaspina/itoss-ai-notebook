{
 "cells": [
  {
   "metadata": {},
   "cell_type": "code",
   "source": [
    "\n",
    "!pip install pyspark\n",
    "from pyspark.sql import SparkSession\n",
    "from pyspark.sql.functions import col, countDistinct\n",
    "\n",
    "spark = (SparkSession.builder.appName(\"itoss-ai\")\n",
    "         .config(\"spark.jars\",\"./postgresql-42.7.3.jar\")\n",
    "         .config(\"spark.sql.debug.maxToStringFields\", \"1024\")\n",
    "         .getOrCreate())"
   ],
   "id": "acf9a3404fb150f6",
   "outputs": [],
   "execution_count": null
  },
  {
   "metadata": {},
   "cell_type": "code",
   "source": [
    "jdbcUrl = \"jdbc:postgresql://localhost:5432/itossprd280824\"\n",
    "properties = {\n",
    "    \"driver\": \"org.postgresql.Driver\",\n",
    "    \"user\": \"itoss\",\n",
    "    \"password\": \"admin\"\n",
    "}"
   ],
   "id": "b241c53c902a489f",
   "outputs": [],
   "execution_count": null
  },
  {
   "metadata": {
    "ExecuteTime": {
     "end_time": "2024-08-28T22:20:36.715755Z",
     "start_time": "2024-08-28T22:20:36.680703Z"
    }
   },
   "cell_type": "code",
   "source": [
    "cts_df = spark.read.jdbc(url=jdbcUrl, table=\"\"\"\n",
    "(SELECT\n",
    "                     c.id,\n",
    "                     c.key,\n",
    "                     c.environment,\n",
    "                     c.state,\n",
    "                     c.name,\n",
    "                     c.collector_id,\n",
    "                     c.company_id,\n",
    "                     c.contact_id,\n",
    "                     c.location_id,\n",
    "                     c.monitoring_profile_id,\n",
    "                     c.support_user_id,\n",
    "                     c.type_id,\n",
    "                     c.workgroup_id,\n",
    "                     CASE\n",
    "                         WHEN environment = 'PRODUCTION' THEN 'production'\n",
    "                         ELSE 'nonProduction'\n",
    "                     END AS environment_group,\n",
    "                     ct.name AS type_name,\n",
    "                     ct.type_path AS type_path,\n",
    "                     co.name AS company_name,\n",
    "                     w.name AS workgroup_name,\n",
    "                     l.name AS location_name,\n",
    "                     mp.name AS monitoring_profile_name,\n",
    "                     cl.name AS collector_name,\n",
    "                     ARRAY_AGG(tu.users_id::BIGINT) AS users_id\n",
    "                 FROM\n",
    "                     ct c\n",
    "                 INNER JOIN\n",
    "                     workgroup w ON c.workgroup_id = w.id\n",
    "                 INNER JOIN\n",
    "                     location l ON c.location_id = l.id\n",
    "                 INNER JOIN\n",
    "                     ct_type ct ON c.type_id = ct.id\n",
    "                 INNER JOIN\n",
    "                     company co ON c.company_id = co.id\n",
    "                 INNER JOIN\n",
    "                     collector cl ON c.collector_id = cl.id\n",
    "                 INNER JOIN\n",
    "                     monitoring_profile mp ON c.monitoring_profile_id = mp.id\n",
    "                 INNER JOIN\n",
    "                     tennant_cts tc ON c.id = tc.cts_id\n",
    "                 INNER JOIN\n",
    "                     tennant_users tu ON tc.tennant_id = tu.tennant_id\n",
    "                 GROUP BY\n",
    "                     c.id,\n",
    "                     c.key,\n",
    "                     c.environment,\n",
    "                     c.state,\n",
    "                     c.name,\n",
    "                     c.collector_id,\n",
    "                     c.company_id,\n",
    "                     c.contact_id,\n",
    "                     c.location_id,\n",
    "                     c.monitoring_profile_id,\n",
    "                     c.support_user_id,\n",
    "                     c.type_id,\n",
    "                     c.workgroup_id,\n",
    "                     ct.name,\n",
    "                     ct.type_path,\n",
    "                     co.name,\n",
    "                     w.name,\n",
    "                     l.name,\n",
    "                     mp.name,\n",
    "                     cl.name\n",
    "                 ) as subquery\"\"\", properties=properties)"
   ],
   "id": "99ba7baa97803fb9",
   "outputs": [],
   "execution_count": 92
  },
  {
   "metadata": {
    "ExecuteTime": {
     "end_time": "2024-08-28T22:27:05.242271Z",
     "start_time": "2024-08-28T22:27:05.217730Z"
    }
   },
   "cell_type": "code",
   "source": [
    "from pyspark.sql import functions\n",
    "cts_df = cts_df.filter(\"state = 'OPERATIONS'\").filter(functions.array_contains(functions.col(\"users_id\"), 200000)).select(\"id\",\"environment_group\")"
   ],
   "id": "50f72b6608aaab41",
   "outputs": [],
   "execution_count": 102
  },
  {
   "metadata": {
    "ExecuteTime": {
     "end_time": "2024-08-28T22:27:06.507847Z",
     "start_time": "2024-08-28T22:27:06.478218Z"
    }
   },
   "cell_type": "code",
   "source": [
    "status_delta_df = spark.read.jdbc(url=jdbcUrl, table=\"\"\"\n",
    "        (SELECT timestamp, ct_id, status FROM ct_status_delta where timestamp > CURRENT_TIMESTAMP - INTERVAL '7 month') as subquery\n",
    "        \"\"\", properties=properties)"
   ],
   "id": "20467c6ed1823583",
   "outputs": [],
   "execution_count": 103
  },
  {
   "metadata": {
    "ExecuteTime": {
     "end_time": "2024-08-28T22:27:07.126844Z",
     "start_time": "2024-08-28T22:27:07.096231Z"
    }
   },
   "cell_type": "code",
   "source": [
    "status_df = spark.read.jdbc(url=jdbcUrl, table=\"\"\"\n",
    "        (SELECT modified_at AS last_status, last_status_change, down AS status_down, \n",
    "        last_status_change AS timestamp, id AS ct_id, CASE WHEN down THEN 'down' ELSE 'up' END AS status \n",
    "        FROM ct_status) as subquery\n",
    "        \"\"\", properties=properties)"
   ],
   "id": "e76dec14ff54c422",
   "outputs": [],
   "execution_count": 104
  },
  {
   "metadata": {
    "ExecuteTime": {
     "end_time": "2024-08-28T22:27:08.733584Z",
     "start_time": "2024-08-28T22:27:08.719621Z"
    }
   },
   "cell_type": "code",
   "source": [
    "all_status_df = status_delta_df.union(status_df\n",
    "                .select(\"timestamp\", \"ct_id\", \"status\")).orderBy(\"ct_id\", \"timestamp\", \"ct_id\").distinct();"
   ],
   "id": "e0d0975ef482c6e9",
   "outputs": [],
   "execution_count": 105
  },
  {
   "metadata": {
    "ExecuteTime": {
     "end_time": "2024-08-28T22:27:11.136487Z",
     "start_time": "2024-08-28T22:27:11.121624Z"
    }
   },
   "cell_type": "code",
   "source": "joined_ct_status = cts_df.join(status_df, cts_df.id == status_df.ct_id, \"inner\").select(\"ct_id\",\"environment_group\", \"status\", \"timestamp\")",
   "id": "f2f7ef95e8d0a3d6",
   "outputs": [],
   "execution_count": 106
  },
  {
   "metadata": {
    "ExecuteTime": {
     "end_time": "2024-08-28T22:27:12.432572Z",
     "start_time": "2024-08-28T22:27:11.752106Z"
    }
   },
   "cell_type": "code",
   "source": [
    "\n",
    "total_status_now = joined_ct_status.groupBy(\"status\").count().show()\n",
    "\n"
   ],
   "id": "92898543c61693ae",
   "outputs": [
    {
     "name": "stdout",
     "output_type": "stream",
     "text": [
      "+------+-----+\n",
      "|status|count|\n",
      "+------+-----+\n",
      "|  down|  922|\n",
      "|    up|10353|\n",
      "+------+-----+\n",
      "\n"
     ]
    }
   ],
   "execution_count": 107
  },
  {
   "metadata": {
    "ExecuteTime": {
     "end_time": "2024-08-28T21:49:29.876563Z",
     "start_time": "2024-08-28T21:49:29.852653Z"
    }
   },
   "cell_type": "code",
   "source": [
    "from pyspark.sql.functions import expr, col, when, lit, row_number\n",
    "from pyspark.sql.window import Window\n",
    "\n",
    "# Define time periods using SQL expressions\n",
    "last_hour = expr(\"current_timestamp() - INTERVAL 1 HOUR\")\n",
    "last_day = expr(\"current_timestamp() - INTERVAL 1 DAY\")\n",
    "last_week = expr(\"current_timestamp() - INTERVAL 1 WEEK\")\n",
    "last_month = expr(\"current_timestamp() - INTERVAL 1 MONTH\")\n",
    "\n",
    "# Create period column based on the defined time periods\n",
    "periodCol = (when(col(\"timestamp\")>last_hour, lit(\"now\"))\n",
    "             .when((col(\"timestamp\")>last_day) & (col(\"timestamp\")<=last_hour), lit(\"last_hour\"))\n",
    "             .when((col(\"timestamp\")>last_week) & (col(\"timestamp\")<=last_day), lit(\"last_day\"))\n",
    "             .when((col(\"timestamp\")>last_month) & (col(\"timestamp\")<=last_week), lit(\"last_week\"))\n",
    "             .otherwise(lit(\"last_month\")))\n",
    "\n",
    "# Add the period column to your DataFrame\n",
    "categorizedData = joined_ct_status.withColumn(\"period\", periodCol)"
   ],
   "id": "63c1f66697ef6d36",
   "outputs": [],
   "execution_count": 86
  },
  {
   "metadata": {
    "ExecuteTime": {
     "end_time": "2024-08-28T21:51:51.320189Z",
     "start_time": "2024-08-28T21:51:50.923354Z"
    }
   },
   "cell_type": "code",
   "source": "categorizedData.filter(col(\"period\") == \"last_hour\").show(10, truncate=False)",
   "id": "418675950f20e1a1",
   "outputs": [
    {
     "name": "stdout",
     "output_type": "stream",
     "text": [
      "+------+-----------------+------+-----------------------+---------+\n",
      "|ct_id |environment_group|status|timestamp              |period   |\n",
      "+------+-----------------+------+-----------------------+---------+\n",
      "|216482|production       |up    |2024-08-27 19:09:28.123|last_hour|\n",
      "|213810|production       |up    |2024-08-28 05:22:31.729|last_hour|\n",
      "|204155|production       |up    |2024-08-28 05:22:31.816|last_hour|\n",
      "|213673|production       |up    |2024-08-28 03:22:33.624|last_hour|\n",
      "|210040|production       |up    |2024-08-28 05:22:31.725|last_hour|\n",
      "|200620|production       |up    |2024-08-27 23:58:48.427|last_hour|\n",
      "|204104|production       |up    |2024-08-28 05:22:31.544|last_hour|\n",
      "|209117|production       |up    |2024-08-28 00:48:47.553|last_hour|\n",
      "|209056|production       |up    |2024-08-28 10:06:45.664|last_hour|\n",
      "|212834|production       |up    |2024-08-28 11:03:31.324|last_hour|\n",
      "+------+-----------------+------+-----------------------+---------+\n",
      "only showing top 10 rows\n",
      "\n"
     ]
    }
   ],
   "execution_count": 91
  },
  {
   "metadata": {
    "ExecuteTime": {
     "end_time": "2024-08-28T19:21:01.780493Z",
     "start_time": "2024-08-28T19:21:01.220385Z"
    }
   },
   "cell_type": "code",
   "outputs": [
    {
     "name": "stdout",
     "output_type": "stream",
     "text": [
      "+----------+------+-----+\n",
      "|    period|status|count|\n",
      "+----------+------+-----+\n",
      "| last_week|    up| 3365|\n",
      "|  last_day|  down|   36|\n",
      "| last_hour|  down|   12|\n",
      "|  last_day|    up|  698|\n",
      "|last_month|    up| 6081|\n",
      "| last_week|  down|  116|\n",
      "| last_hour|    up|  211|\n",
      "|last_month|  down|  758|\n",
      "+----------+------+-----+\n",
      "\n"
     ]
    }
   ],
   "execution_count": 51,
   "source": [
    "\n",
    "# Define window specification to get the most recent record for each `ct_id`\n",
    "window_spec = Window.partitionBy(\"ct_id\").orderBy(col(\"timestamp\").desc())\n",
    "df_with_rn = categorizedData.withColumn(\"row_number\", row_number().over(window_spec))\n",
    "\n",
    "# Filter to keep only the first row (most recent) for each `ct_id`\n",
    "df_filtered = df_with_rn.filter(col(\"row_number\") == 1)\n",
    "df_filtered.groupBy(\"period\", \"status\").count().show()\n",
    "# Count the records grouped by period\n",
    "\n"
   ],
   "id": "2a9416227f5a0bad"
  },
  {
   "metadata": {},
   "cell_type": "code",
   "outputs": [],
   "execution_count": null,
   "source": "",
   "id": "5308bb0f065dc78c"
  },
  {
   "metadata": {
    "ExecuteTime": {
     "end_time": "2024-08-28T19:21:47.304019Z",
     "start_time": "2024-08-28T19:21:46.229217Z"
    }
   },
   "cell_type": "code",
   "source": "df_filtered.filter(\"period = 'now'\").show()",
   "id": "360d226ae6eb1052",
   "outputs": [
    {
     "name": "stderr",
     "output_type": "stream",
     "text": [
      "                                                                                \r"
     ]
    },
    {
     "name": "stdout",
     "output_type": "stream",
     "text": [
      "+---+---+-----------+-----+----+------------+----------+----------+-----------+---------------------+---------------+-------+------------+-----------------+---------+---------+------------+--------------+-------------+-----------------------+--------------+--------+---------+-----+------+------+----------+\n",
      "| id|key|environment|state|name|collector_id|company_id|contact_id|location_id|monitoring_profile_id|support_user_id|type_id|workgroup_id|environment_group|type_name|type_path|company_name|workgroup_name|location_name|monitoring_profile_name|collector_name|users_id|timestamp|ct_id|status|period|row_number|\n",
      "+---+---+-----------+-----+----+------------+----------+----------+-----------+---------------------+---------------+-------+------------+-----------------+---------+---------+------------+--------------+-------------+-----------------------+--------------+--------+---------+-----+------+------+----------+\n",
      "+---+---+-----------+-----+----+------------+----------+----------+-----------+---------------------+---------------+-------+------------+-----------------+---------+---------+------------+--------------+-------------+-----------------------+--------------+--------+---------+-----+------+------+----------+\n",
      "\n"
     ]
    }
   ],
   "execution_count": 53
  },
  {
   "metadata": {},
   "cell_type": "code",
   "outputs": [],
   "execution_count": null,
   "source": "",
   "id": "c46aacb73f2d1aa7"
  }
 ],
 "metadata": {
  "kernelspec": {
   "display_name": "Python 3",
   "language": "python",
   "name": "python3"
  },
  "language_info": {
   "codemirror_mode": {
    "name": "ipython",
    "version": 2
   },
   "file_extension": ".py",
   "mimetype": "text/x-python",
   "name": "python",
   "nbconvert_exporter": "python",
   "pygments_lexer": "ipython2",
   "version": "2.7.6"
  }
 },
 "nbformat": 4,
 "nbformat_minor": 5
}
