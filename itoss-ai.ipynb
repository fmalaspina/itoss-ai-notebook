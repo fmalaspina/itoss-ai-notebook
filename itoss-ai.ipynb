{
 "cells": [
  {
   "metadata": {
    "ExecuteTime": {
     "end_time": "2024-07-01T18:26:40.662844Z",
     "start_time": "2024-07-01T18:26:40.000070Z"
    }
   },
   "cell_type": "code",
   "source": [
    "import logging\n",
    "!pip install pyspark\n",
    "from pyspark.sql import SparkSession\n",
    "from pyspark.streaming import StreamingContext\n",
    "from pyspark.sql.types import *"
   ],
   "id": "acf9a3404fb150f6",
   "outputs": [
    {
     "name": "stdout",
     "output_type": "stream",
     "text": [
      "Defaulting to user installation because normal site-packages is not writeable\r\n",
      "Requirement already satisfied: pyspark in /home/fmalaspina/.local/lib/python3.10/site-packages (3.5.1)\r\n",
      "Requirement already satisfied: py4j==0.10.9.7 in /home/fmalaspina/.local/lib/python3.10/site-packages (from pyspark) (0.10.9.7)\r\n"
     ]
    }
   ],
   "execution_count": 74
  },
  {
   "metadata": {
    "ExecuteTime": {
     "end_time": "2024-07-01T18:26:40.676844Z",
     "start_time": "2024-07-01T18:26:40.667383Z"
    }
   },
   "cell_type": "code",
   "source": [
    "spark = (SparkSession.builder.appName(\"itoss-ai\")\n",
    "         .config(\"spark.jars\",\"./postgresql-42.7.3.jar\")\n",
    "         .getOrCreate())"
   ],
   "id": "2a13f0308a39ae8",
   "outputs": [],
   "execution_count": 75
  },
  {
   "metadata": {
    "ExecuteTime": {
     "end_time": "2024-07-01T18:26:40.724948Z",
     "start_time": "2024-07-01T18:26:40.679324Z"
    }
   },
   "cell_type": "code",
   "source": [
    "jdbcUrl = \"jdbc:postgresql://localhost:5432/itossconfig\"\n",
    "connection_properties = {\n",
    "    \"driver\": \"org.postgresql.Driver\",\n",
    "    \"user\": \"itoss\",\n",
    "    \"password\": \"admin\"\n",
    "}\n",
    "query = \"(select c.*, w.name as ctWorkgroup, l.name as ctLocation, case when cs.down then 'down' else 'up' end as ctStatus, cs.last_status_change from ct c \\\n",
    "         inner join ct_status cs on c.id = cs.id \\\n",
    "         inner join workgroup w on c.workgroup_id = w.id \\\n",
    "         inner join location l on c.location_id = l.id \\\n",
    "         inner join ct_type ct on c.type_id = ct.id \\\n",
    ") as subquery\"  \n",
    "ctDf = spark.read.jdbc(url=jdbcUrl,table=query,properties=connection_properties)\n",
    "ctDf.printSchema()\n",
    "\n"
   ],
   "id": "2c0e60204ca1868b",
   "outputs": [
    {
     "name": "stdout",
     "output_type": "stream",
     "text": [
      "root\n",
      " |-- id: long (nullable = true)\n",
      " |-- created_by: string (nullable = true)\n",
      " |-- creation_date: timestamp (nullable = true)\n",
      " |-- last_modified_by: string (nullable = true)\n",
      " |-- last_modified_date: timestamp (nullable = true)\n",
      " |-- attributes: string (nullable = true)\n",
      " |-- key: string (nullable = true)\n",
      " |-- environment: string (nullable = true)\n",
      " |-- name: string (nullable = true)\n",
      " |-- old_password: string (nullable = true)\n",
      " |-- state: string (nullable = true)\n",
      " |-- collector_id: long (nullable = true)\n",
      " |-- company_id: long (nullable = true)\n",
      " |-- contact_id: long (nullable = true)\n",
      " |-- location_id: long (nullable = true)\n",
      " |-- monitoring_profile_id: long (nullable = true)\n",
      " |-- support_user_id: long (nullable = true)\n",
      " |-- type_id: long (nullable = true)\n",
      " |-- workgroup_id: long (nullable = true)\n",
      " |-- instrumentation_parameter_values: string (nullable = true)\n",
      " |-- old_crypted_property_values: string (nullable = true)\n",
      " |-- integration_id: string (nullable = true)\n",
      " |-- ctworkgroup: string (nullable = true)\n",
      " |-- ctlocation: string (nullable = true)\n",
      " |-- ctstatus: string (nullable = true)\n",
      " |-- last_status_change: timestamp (nullable = true)\n",
      "\n"
     ]
    }
   ],
   "execution_count": 76
  },
  {
   "metadata": {
    "ExecuteTime": {
     "end_time": "2024-07-01T18:26:40.752895Z",
     "start_time": "2024-07-01T18:26:40.726608Z"
    }
   },
   "cell_type": "code",
   "source": [
    "queryStatusDelta = \"(select * from ct_status_delta) as subquery\"  \n",
    "ctStatusDeltaDf = spark.read.jdbc(url=jdbcUrl,table=queryStatusDelta,properties=connection_properties)\n",
    "ctStatusDeltaDf.printSchema()\n"
   ],
   "id": "6da343589b461759",
   "outputs": [
    {
     "name": "stdout",
     "output_type": "stream",
     "text": [
      "root\n",
      " |-- ct_id: long (nullable = true)\n",
      " |-- status: string (nullable = true)\n",
      " |-- last_status_change: timestamp (nullable = true)\n",
      " |-- timestamp: timestamp (nullable = true)\n",
      "\n"
     ]
    }
   ],
   "execution_count": 77
  },
  {
   "metadata": {
    "ExecuteTime": {
     "end_time": "2024-07-01T18:26:41.029001Z",
     "start_time": "2024-07-01T18:26:40.753787Z"
    }
   },
   "cell_type": "code",
   "source": [
    "from pyspark.sql.functions import col, count, lit, when, current_timestamp, expr, collect_list, struct\n",
    "from pyspark.sql.types import StringType, IntegerType\n",
    "import json\n",
    "\n",
    "# 1. Filter the ct_status_delta table to include only records within the last hour\n",
    "one_hour_ago = current_timestamp() - expr('INTERVAL 1 HOUR')\n",
    "filtered_status_delta = ctStatusDeltaDf.filter(col(\"timestamp\") >= one_hour_ago)\n",
    "\n",
    "# 2. Join the filtered ct_status_delta table with the ct table\n",
    "joinedDf = ctDf.join(filtered_status_delta, ctDf.id == filtered_status_delta.ct_id, \"inner\")\n",
    "\n",
    "# 3. Calculate the counts for different statuses and environments within the last hour\n",
    "statusCounts = joinedDf.groupBy(\"ctStatus\").agg(count(\"*\").alias(\"count_last_hour\"))\n",
    "#envCounts = joinedDf.groupBy(\"environment\").agg(count(\"*\").alias(\"count_last_hour\"))\n",
    "\n",
    "# Calculate total counts in the ct table\n",
    "total_statusCounts = ctDf.groupBy(\"ctStatus\").agg(count(\"*\").alias(\"total_count\"))\n",
    "#total_envCounts = ctDf.groupBy(\"environment\").agg(count(\"*\").alias(\"total_count\"))\n",
    "\n",
    "statusCounts.show(5)\n",
    "#envCounts.show(5)\n",
    "total_statusCounts.show(5)\n",
    "#total_envCounts.show(5)\n",
    "\n"
   ],
   "id": "cc21c1087aa73365",
   "outputs": [
    {
     "name": "stdout",
     "output_type": "stream",
     "text": [
      "+--------+---------------+\n",
      "|ctStatus|count_last_hour|\n",
      "+--------+---------------+\n",
      "|    down|            927|\n",
      "|      up|          10175|\n",
      "+--------+---------------+\n",
      "\n",
      "+--------+-----------+\n",
      "|ctStatus|total_count|\n",
      "+--------+-----------+\n",
      "|    down|        924|\n",
      "|      up|      10172|\n",
      "+--------+-----------+\n",
      "\n"
     ]
    }
   ],
   "execution_count": 78
  },
  {
   "metadata": {
    "ExecuteTime": {
     "end_time": "2024-07-01T18:26:41.238235Z",
     "start_time": "2024-07-01T18:26:41.030257Z"
    }
   },
   "cell_type": "code",
   "source": [
    "\n",
    "# 4. Calculate quantity and percentage variations\n",
    "statusCounts = statusCounts.join(total_statusCounts, \"ctStatus\") \\\n",
    "    .withColumn(\"quantityVariation\", col(\"count_last_hour\") - col(\"total_count\")) \\\n",
    "    .withColumn(\"percentageVariation\", col(\"quantityVariation\") / col(\"total_count\") * 100)\n",
    "statusCounts.printSchema()\n",
    "statusCounts.show(5)\n"
   ],
   "id": "f5fca6f1ecc98abe",
   "outputs": [
    {
     "name": "stdout",
     "output_type": "stream",
     "text": [
      "root\n",
      " |-- ctStatus: string (nullable = true)\n",
      " |-- count_last_hour: long (nullable = false)\n",
      " |-- total_count: long (nullable = false)\n",
      " |-- quantityVariation: long (nullable = false)\n",
      " |-- percentageVariation: double (nullable = true)\n",
      "\n",
      "+--------+---------------+-----------+-----------------+--------------------+\n",
      "|ctStatus|count_last_hour|total_count|quantityVariation| percentageVariation|\n",
      "+--------+---------------+-----------+-----------------+--------------------+\n",
      "|    down|            927|        924|                3|  0.3246753246753247|\n",
      "|      up|          10175|      10172|                3|0.029492725127801808|\n",
      "+--------+---------------+-----------+-----------------+--------------------+\n",
      "\n"
     ]
    }
   ],
   "execution_count": 79
  },
  {
   "metadata": {
    "ExecuteTime": {
     "end_time": "2024-07-01T18:26:41.242301Z",
     "start_time": "2024-07-01T18:26:41.239379Z"
    }
   },
   "cell_type": "code",
   "source": [
    "\n",
    "#envCounts = envCounts.join(total_envCounts, \"environment\") \\\n",
    "#    .withColumn(\"quantityVariation\", col(\"count_last_hour\") - col(\"total_count\")) \\\n",
    "#    .withColumn(\"percentageVariation\", col(\"quantityVariation\") / col(\"total_count\") * 100)\n",
    "\n",
    "#envCounts.printSchema()\n",
    "#envCounts.show(5)"
   ],
   "id": "65568e5a3c3b55ab",
   "outputs": [],
   "execution_count": 80
  },
  {
   "metadata": {
    "ExecuteTime": {
     "end_time": "2024-07-01T18:26:41.489037Z",
     "start_time": "2024-07-01T18:26:41.243724Z"
    }
   },
   "cell_type": "code",
   "source": [
    "\n",
    "# 5. Calculate the trend\n",
    "statusCounts = statusCounts.withColumn(\"trend\", when(col(\"count_last_hour\") > col(\"total_count\"), \"up\")\n",
    "                                      .when(col(\"count_last_hour\") < col(\"total_count\"), \"down\")\n",
    "                                      .otherwise(\"stable\"))\n",
    "\n",
    "#envCounts = envCounts.withColumn(\"trend\", when(col(\"count_last_hour\") > col(\"total_count\"), \"up\")\n",
    " #                                 .when(col(\"count_last_hour\") < col(\"total_count\"), \"down\")\n",
    " #                                 .otherwise(\"stable\"))\n",
    "\n",
    "statusCounts.printSchema()\n",
    "statusCounts.show(5)\n",
    "\n",
    "#envCounts.printSchema()\n",
    "#envCounts.show(5)\n"
   ],
   "id": "c8fdbb7fe5862048",
   "outputs": [
    {
     "name": "stdout",
     "output_type": "stream",
     "text": [
      "root\n",
      " |-- ctStatus: string (nullable = true)\n",
      " |-- count_last_hour: long (nullable = false)\n",
      " |-- total_count: long (nullable = false)\n",
      " |-- quantityVariation: long (nullable = false)\n",
      " |-- percentageVariation: double (nullable = true)\n",
      " |-- trend: string (nullable = false)\n",
      "\n",
      "+--------+---------------+-----------+-----------------+--------------------+-----+\n",
      "|ctStatus|count_last_hour|total_count|quantityVariation| percentageVariation|trend|\n",
      "+--------+---------------+-----------+-----------------+--------------------+-----+\n",
      "|    down|            927|        924|                3|  0.3246753246753247|   up|\n",
      "|      up|          10175|      10172|                3|0.029492725127801808|   up|\n",
      "+--------+---------------+-----------+-----------------+--------------------+-----+\n",
      "\n"
     ]
    }
   ],
   "execution_count": 81
  },
  {
   "metadata": {
    "ExecuteTime": {
     "end_time": "2024-07-01T18:26:41.492441Z",
     "start_time": "2024-07-01T18:26:41.490150Z"
    }
   },
   "cell_type": "code",
   "source": "",
   "id": "55376a0538ffc421",
   "outputs": [],
   "execution_count": 81
  },
  {
   "metadata": {
    "ExecuteTime": {
     "end_time": "2024-07-01T18:26:41.496585Z",
     "start_time": "2024-07-01T18:26:41.494413Z"
    }
   },
   "cell_type": "code",
   "source": "",
   "id": "93af423dcfb2c5d6",
   "outputs": [],
   "execution_count": 81
  }
 ],
 "metadata": {
  "kernelspec": {
   "display_name": "Python 3",
   "language": "python",
   "name": "python3"
  },
  "language_info": {
   "codemirror_mode": {
    "name": "ipython",
    "version": 2
   },
   "file_extension": ".py",
   "mimetype": "text/x-python",
   "name": "python",
   "nbconvert_exporter": "python",
   "pygments_lexer": "ipython2",
   "version": "2.7.6"
  }
 },
 "nbformat": 4,
 "nbformat_minor": 5
}
